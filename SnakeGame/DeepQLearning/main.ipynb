{
 "cells": [
  {
   "cell_type": "code",
   "execution_count": 1,
   "metadata": {},
   "outputs": [],
   "source": [
    "from deep_rl import DeepQLearning\n",
    "import torch"
   ]
  },
  {
   "cell_type": "code",
   "execution_count": 2,
   "metadata": {},
   "outputs": [],
   "source": [
    "device = \"cuda\" if torch.cuda.is_available() else \"cpu\"\n",
    "dql = DeepQLearning(0.1, 0.9, device, 16, 4, 1, 24, 0.001)"
   ]
  },
  {
   "cell_type": "code",
   "execution_count": 9,
   "metadata": {},
   "outputs": [
    {
     "name": "stdout",
     "output_type": "stream",
     "text": [
      "Epoch 999: Best score: 31 | Last score: 14 | Mean score (50 last games): 12.34 | Epsilon: 0.0010031795918392433094228834\r"
     ]
    }
   ],
   "source": [
    "dql.train(800, 800, 80, 1000, True, True, 50)\n",
    "dql.save(\"model.pth\")"
   ]
  },
  {
   "cell_type": "code",
   "execution_count": 6,
   "metadata": {},
   "outputs": [
    {
     "data": {
      "text/plain": [
       "23"
      ]
     },
     "execution_count": 6,
     "metadata": {},
     "output_type": "execute_result"
    }
   ],
   "source": [
    "dql.load(\"model.pth\")\n",
    "dql.test_ia(800, 800, 20, 4)"
   ]
  }
 ],
 "metadata": {
  "kernelspec": {
   "display_name": "snake_yt",
   "language": "python",
   "name": "python3"
  },
  "language_info": {
   "codemirror_mode": {
    "name": "ipython",
    "version": 3
   },
   "file_extension": ".py",
   "mimetype": "text/x-python",
   "name": "python",
   "nbconvert_exporter": "python",
   "pygments_lexer": "ipython3",
   "version": "3.9.18"
  }
 },
 "nbformat": 4,
 "nbformat_minor": 2
}
