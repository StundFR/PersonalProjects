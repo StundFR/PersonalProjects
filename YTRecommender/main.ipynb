{
 "cells": [
  {
   "cell_type": "code",
   "execution_count": 1,
   "metadata": {},
   "outputs": [],
   "source": [
    "from YoutubeRecommender import YoutubeRecommender"
   ]
  },
  {
   "cell_type": "code",
   "execution_count": 2,
   "metadata": {},
   "outputs": [],
   "source": [
    "client_secrets_path = \"./client_secrets/client_secret.json\"\n",
    "thumbnails_path = \"./thumbnails/\"\n",
    "model_path = \"./models/\""
   ]
  },
  {
   "cell_type": "code",
   "execution_count": 3,
   "metadata": {},
   "outputs": [
    {
     "name": "stdout",
     "output_type": "stream",
     "text": [
      "Please visit this URL to authorize this application: https://accounts.google.com/o/oauth2/auth?response_type=code&client_id=13326974913-11o14v565sms67f93s93mj39sanffbhe.apps.googleusercontent.com&redirect_uri=http%3A%2F%2Flocalhost%3A65058%2F&scope=https%3A%2F%2Fwww.googleapis.com%2Fauth%2Fyoutube.readonly&state=ffeX4t6RYSMQPFQPf26C6oO9Yue0f9&access_type=offline\n"
     ]
    }
   ],
   "source": [
    "reco = YoutubeRecommender(client_secrets_path, thumbnails_path)"
   ]
  },
  {
   "cell_type": "code",
   "execution_count": 4,
   "metadata": {},
   "outputs": [],
   "source": [
    "# reco.train_model(\n",
    "#     nb_liked_videos=500,\n",
    "#     nb_subs_videos=3,\n",
    "#     epoch=20,\n",
    "#     verbose=True,\n",
    "#     numeric_model_save_path=model_path,\n",
    "#     img_model_save_path=model_path,\n",
    "# )\n",
    "\n",
    "reco.load_model(model_path)"
   ]
  },
  {
   "cell_type": "code",
   "execution_count": 5,
   "metadata": {},
   "outputs": [],
   "source": [
    "reco.get_recommendations()"
   ]
  },
  {
   "cell_type": "code",
   "execution_count": 6,
   "metadata": {},
   "outputs": [
    {
     "data": {
      "text/plain": [
       "videoId\n",
       "https://www.youtube.com/watch?v=9yHjTGUkuyY    1.00\n",
       "https://www.youtube.com/watch?v=XqeAcVpMyOI    0.99\n",
       "https://www.youtube.com/watch?v=bfmUsDJjBkU    0.99\n",
       "https://www.youtube.com/watch?v=0xfiLpx0yso    0.97\n",
       "https://www.youtube.com/watch?v=mapbKTJ9aBs    0.97\n",
       "                                               ... \n",
       "https://www.youtube.com/watch?v=RTaPzwDs98Q    0.51\n",
       "https://www.youtube.com/watch?v=bqOtBCVgqBg    0.50\n",
       "https://www.youtube.com/watch?v=05nUyEgiyGw    0.50\n",
       "https://www.youtube.com/watch?v=vKPm6JGCXLw    0.50\n",
       "https://www.youtube.com/watch?v=xdSxZNs0n7E    0.50\n",
       "Name: 1, Length: 98, dtype: float64"
      ]
     },
     "execution_count": 6,
     "metadata": {},
     "output_type": "execute_result"
    }
   ],
   "source": [
    "reco.ranking()"
   ]
  }
 ],
 "metadata": {
  "kernelspec": {
   "display_name": "snake_yt",
   "language": "python",
   "name": "python3"
  },
  "language_info": {
   "codemirror_mode": {
    "name": "ipython",
    "version": 3
   },
   "file_extension": ".py",
   "mimetype": "text/x-python",
   "name": "python",
   "nbconvert_exporter": "python",
   "pygments_lexer": "ipython3",
   "version": "3.9.18"
  }
 },
 "nbformat": 4,
 "nbformat_minor": 2
}
